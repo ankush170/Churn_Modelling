{
  "cells": [
    {
      "cell_type": "code",
      "execution_count": 1,
      "metadata": {
        "colab": {
          "base_uri": "https://localhost:8080/"
        },
        "id": "KMQO-lpC6lgI",
        "outputId": "827b8b09-d838-4a44-d3e5-3b7a4ba63413"
      },
      "outputs": [
        {
          "name": "stdout",
          "output_type": "stream",
          "text": [
            "Defaulting to user installation because normal site-packages is not writeable\n",
            "Collecting tensorflow\n",
            "  Downloading tensorflow-2.15.0-cp39-cp39-macosx_12_0_arm64.whl (2.1 kB)\n",
            "Collecting tensorflow-macos==2.15.0\n",
            "  Downloading tensorflow_macos-2.15.0-cp39-cp39-macosx_12_0_arm64.whl (208.8 MB)\n",
            "\u001b[K     |████████████████████████████████| 208.8 MB 2.9 MB/s eta 0:00:01    |█████████▉                      | 64.4 MB 4.6 MB/s eta 0:00:32     |████████████████▉               | 109.9 MB 6.1 MB/s eta 0:00:17\n",
            "\u001b[?25hCollecting h5py>=2.9.0\n",
            "  Downloading h5py-3.10.0-cp39-cp39-macosx_11_0_arm64.whl (2.7 MB)\n",
            "\u001b[K     |████████████████████████████████| 2.7 MB 6.5 MB/s eta 0:00:01\n",
            "\u001b[?25hRequirement already satisfied: packaging in /Users/anhappy170/Library/Python/3.9/lib/python/site-packages (from tensorflow-macos==2.15.0->tensorflow) (23.2)\n",
            "Collecting termcolor>=1.1.0\n",
            "  Downloading termcolor-2.4.0-py3-none-any.whl (7.7 kB)\n",
            "Collecting libclang>=13.0.0\n",
            "  Using cached libclang-16.0.6-py2.py3-none-macosx_11_0_arm64.whl (20.6 MB)\n",
            "Requirement already satisfied: numpy<2.0.0,>=1.23.5 in /Users/anhappy170/Library/Python/3.9/lib/python/site-packages (from tensorflow-macos==2.15.0->tensorflow) (1.26.4)\n",
            "Collecting absl-py>=1.0.0\n",
            "  Downloading absl_py-2.1.0-py3-none-any.whl (133 kB)\n",
            "\u001b[K     |████████████████████████████████| 133 kB 8.2 MB/s eta 0:00:01\n",
            "\u001b[?25hCollecting tensorflow-estimator<2.16,>=2.15.0\n",
            "  Downloading tensorflow_estimator-2.15.0-py2.py3-none-any.whl (441 kB)\n",
            "\u001b[K     |████████████████████████████████| 441 kB 6.5 MB/s eta 0:00:01\n",
            "\u001b[?25hCollecting opt-einsum>=2.3.2\n",
            "  Using cached opt_einsum-3.3.0-py3-none-any.whl (65 kB)\n",
            "Collecting tensorflow-io-gcs-filesystem>=0.23.1\n",
            "  Downloading tensorflow_io_gcs_filesystem-0.36.0-cp39-cp39-macosx_12_0_arm64.whl (3.4 MB)\n",
            "\u001b[K     |████████████████████████████████| 3.4 MB 7.6 MB/s eta 0:00:01\n",
            "\u001b[?25hCollecting flatbuffers>=23.5.26\n",
            "  Using cached flatbuffers-23.5.26-py2.py3-none-any.whl (26 kB)\n",
            "Requirement already satisfied: six>=1.12.0 in /Library/Developer/CommandLineTools/Library/Frameworks/Python3.framework/Versions/3.9/lib/python3.9/site-packages (from tensorflow-macos==2.15.0->tensorflow) (1.15.0)\n",
            "Requirement already satisfied: typing-extensions>=3.6.6 in /Users/anhappy170/Library/Python/3.9/lib/python/site-packages (from tensorflow-macos==2.15.0->tensorflow) (4.9.0)\n",
            "Collecting gast!=0.5.0,!=0.5.1,!=0.5.2,>=0.2.1\n",
            "  Using cached gast-0.5.4-py3-none-any.whl (19 kB)\n",
            "Collecting grpcio<2.0,>=1.24.3\n",
            "  Downloading grpcio-1.62.0-cp39-cp39-macosx_10_10_universal2.whl (10.1 MB)\n",
            "\u001b[K     |████████████████████████████████| 10.1 MB 4.4 MB/s eta 0:00:01\n",
            "\u001b[?25hCollecting keras<2.16,>=2.15.0\n",
            "  Downloading keras-2.15.0-py3-none-any.whl (1.7 MB)\n",
            "\u001b[K     |████████████████████████████████| 1.7 MB 7.2 MB/s eta 0:00:01\n",
            "\u001b[?25hCollecting protobuf!=4.21.0,!=4.21.1,!=4.21.2,!=4.21.3,!=4.21.4,!=4.21.5,<5.0.0dev,>=3.20.3\n",
            "  Downloading protobuf-4.25.3-cp37-abi3-macosx_10_9_universal2.whl (394 kB)\n",
            "\u001b[K     |████████████████████████████████| 394 kB 4.2 MB/s eta 0:00:01\n",
            "\u001b[?25hCollecting tensorboard<2.16,>=2.15\n",
            "  Downloading tensorboard-2.15.2-py3-none-any.whl (5.5 MB)\n",
            "\u001b[K     |████████████████████████████████| 5.5 MB 1.4 MB/s eta 0:00:01\n",
            "\u001b[?25hRequirement already satisfied: setuptools in /Library/Developer/CommandLineTools/Library/Frameworks/Python3.framework/Versions/3.9/lib/python3.9/site-packages (from tensorflow-macos==2.15.0->tensorflow) (58.0.4)\n",
            "Collecting ml-dtypes~=0.2.0\n",
            "  Downloading ml_dtypes-0.2.0-cp39-cp39-macosx_10_9_universal2.whl (1.2 MB)\n",
            "\u001b[K     |████████████████████████████████| 1.2 MB 5.3 MB/s eta 0:00:01\n",
            "\u001b[?25hCollecting google-pasta>=0.1.1\n",
            "  Using cached google_pasta-0.2.0-py3-none-any.whl (57 kB)\n",
            "Collecting astunparse>=1.6.0\n",
            "  Using cached astunparse-1.6.3-py2.py3-none-any.whl (12 kB)\n",
            "Collecting wrapt<1.15,>=1.11.0\n",
            "  Downloading wrapt-1.14.1-cp39-cp39-macosx_11_0_arm64.whl (35 kB)\n",
            "Requirement already satisfied: wheel<1.0,>=0.23.0 in /Library/Developer/CommandLineTools/Library/Frameworks/Python3.framework/Versions/3.9/lib/python3.9/site-packages (from astunparse>=1.6.0->tensorflow-macos==2.15.0->tensorflow) (0.37.0)\n",
            "Collecting requests<3,>=2.21.0\n",
            "  Using cached requests-2.31.0-py3-none-any.whl (62 kB)\n",
            "Collecting tensorboard-data-server<0.8.0,>=0.7.0\n",
            "  Downloading tensorboard_data_server-0.7.2-py3-none-any.whl (2.4 kB)\n",
            "Collecting google-auth-oauthlib<2,>=0.5\n",
            "  Downloading google_auth_oauthlib-1.2.0-py2.py3-none-any.whl (24 kB)\n",
            "Collecting werkzeug>=1.0.1\n",
            "  Downloading werkzeug-3.0.1-py3-none-any.whl (226 kB)\n",
            "\u001b[K     |████████████████████████████████| 226 kB 1.8 MB/s eta 0:00:01\n",
            "\u001b[?25hCollecting markdown>=2.6.8\n",
            "  Downloading Markdown-3.5.2-py3-none-any.whl (103 kB)\n",
            "\u001b[K     |████████████████████████████████| 103 kB 2.7 MB/s eta 0:00:01\n",
            "\u001b[?25hCollecting google-auth<3,>=1.6.3\n",
            "  Downloading google_auth-2.28.1-py2.py3-none-any.whl (186 kB)\n",
            "\u001b[K     |████████████████████████████████| 186 kB 2.5 MB/s eta 0:00:01\n",
            "\u001b[?25hCollecting cachetools<6.0,>=2.0.0\n",
            "  Downloading cachetools-5.3.3-py3-none-any.whl (9.3 kB)\n",
            "Collecting pyasn1-modules>=0.2.1\n",
            "  Using cached pyasn1_modules-0.3.0-py2.py3-none-any.whl (181 kB)\n",
            "Collecting rsa<5,>=3.1.4\n",
            "  Using cached rsa-4.9-py3-none-any.whl (34 kB)\n",
            "Collecting requests-oauthlib>=0.7.0\n",
            "  Using cached requests_oauthlib-1.3.1-py2.py3-none-any.whl (23 kB)\n",
            "Requirement already satisfied: importlib-metadata>=4.4 in /Users/anhappy170/Library/Python/3.9/lib/python/site-packages (from markdown>=2.6.8->tensorboard<2.16,>=2.15->tensorflow-macos==2.15.0->tensorflow) (7.0.1)\n",
            "Requirement already satisfied: zipp>=0.5 in /Users/anhappy170/Library/Python/3.9/lib/python/site-packages (from importlib-metadata>=4.4->markdown>=2.6.8->tensorboard<2.16,>=2.15->tensorflow-macos==2.15.0->tensorflow) (3.17.0)\n",
            "Collecting pyasn1<0.6.0,>=0.4.6\n",
            "  Downloading pyasn1-0.5.1-py2.py3-none-any.whl (84 kB)\n",
            "\u001b[K     |████████████████████████████████| 84 kB 3.5 MB/s eta 0:00:01\n",
            "\u001b[?25hCollecting certifi>=2017.4.17\n",
            "  Downloading certifi-2024.2.2-py3-none-any.whl (163 kB)\n",
            "\u001b[K     |████████████████████████████████| 163 kB 2.9 MB/s eta 0:00:01\n",
            "\u001b[?25hCollecting urllib3<3,>=1.21.1\n",
            "  Downloading urllib3-2.2.1-py3-none-any.whl (121 kB)\n",
            "\u001b[K     |████████████████████████████████| 121 kB 2.8 MB/s eta 0:00:01\n",
            "\u001b[?25hCollecting charset-normalizer<4,>=2\n",
            "  Downloading charset_normalizer-3.3.2-cp39-cp39-macosx_11_0_arm64.whl (120 kB)\n",
            "\u001b[K     |████████████████████████████████| 120 kB 1.7 MB/s eta 0:00:01\n",
            "\u001b[?25hCollecting idna<4,>=2.5\n",
            "  Downloading idna-3.6-py3-none-any.whl (61 kB)\n",
            "\u001b[K     |████████████████████████████████| 61 kB 781 kB/s eta 0:00:01\n",
            "\u001b[?25hCollecting oauthlib>=3.0.0\n",
            "  Using cached oauthlib-3.2.2-py3-none-any.whl (151 kB)\n",
            "Collecting MarkupSafe>=2.1.1\n",
            "  Downloading MarkupSafe-2.1.5-cp39-cp39-macosx_10_9_universal2.whl (18 kB)\n",
            "Installing collected packages: urllib3, pyasn1, idna, charset-normalizer, certifi, rsa, requests, pyasn1-modules, oauthlib, cachetools, requests-oauthlib, MarkupSafe, google-auth, werkzeug, tensorboard-data-server, protobuf, markdown, grpcio, google-auth-oauthlib, absl-py, wrapt, termcolor, tensorflow-io-gcs-filesystem, tensorflow-estimator, tensorboard, opt-einsum, ml-dtypes, libclang, keras, h5py, google-pasta, gast, flatbuffers, astunparse, tensorflow-macos, tensorflow\n",
            "Successfully installed MarkupSafe-2.1.5 absl-py-2.1.0 astunparse-1.6.3 cachetools-5.3.3 certifi-2024.2.2 charset-normalizer-3.3.2 flatbuffers-23.5.26 gast-0.5.4 google-auth-2.28.1 google-auth-oauthlib-1.2.0 google-pasta-0.2.0 grpcio-1.62.0 h5py-3.10.0 idna-3.6 keras-2.15.0 libclang-16.0.6 markdown-3.5.2 ml-dtypes-0.2.0 oauthlib-3.2.2 opt-einsum-3.3.0 protobuf-4.25.3 pyasn1-0.5.1 pyasn1-modules-0.3.0 requests-2.31.0 requests-oauthlib-1.3.1 rsa-4.9 tensorboard-2.15.2 tensorboard-data-server-0.7.2 tensorflow-2.15.0 tensorflow-estimator-2.15.0 tensorflow-io-gcs-filesystem-0.36.0 tensorflow-macos-2.15.0 termcolor-2.4.0 urllib3-2.2.1 werkzeug-3.0.1 wrapt-1.14.1\n",
            "\u001b[33mWARNING: You are using pip version 21.2.4; however, version 24.0 is available.\n",
            "You should consider upgrading via the '/Library/Developer/CommandLineTools/usr/bin/python3 -m pip install --upgrade pip' command.\u001b[0m\n",
            "Note: you may need to restart the kernel to use updated packages.\n"
          ]
        }
      ],
      "source": [
        "%pip install tensorflow"
      ]
    },
    {
      "cell_type": "code",
      "execution_count": 2,
      "metadata": {
        "id": "D2IliGyI62B0"
      },
      "outputs": [
        {
          "name": "stderr",
          "output_type": "stream",
          "text": [
            "/Users/anhappy170/Library/Python/3.9/lib/python/site-packages/urllib3/__init__.py:35: NotOpenSSLWarning: urllib3 v2 only supports OpenSSL 1.1.1+, currently the 'ssl' module is compiled with 'LibreSSL 2.8.3'. See: https://github.com/urllib3/urllib3/issues/3020\n",
            "  warnings.warn(\n"
          ]
        }
      ],
      "source": [
        "import tensorflow as tf"
      ]
    },
    {
      "cell_type": "code",
      "execution_count": 3,
      "metadata": {
        "colab": {
          "base_uri": "https://localhost:8080/"
        },
        "id": "4_fyxUHb7GuH",
        "outputId": "2c8a495d-cff8-49f1-b9c2-fa63165b0043"
      },
      "outputs": [
        {
          "name": "stdout",
          "output_type": "stream",
          "text": [
            "2.15.0\n"
          ]
        }
      ],
      "source": [
        "print(tf.__version__)"
      ]
    },
    {
      "cell_type": "code",
      "execution_count": 5,
      "metadata": {},
      "outputs": [
        {
          "name": "stdout",
          "output_type": "stream",
          "text": [
            "Defaulting to user installation because normal site-packages is not writeable\n",
            "Collecting matplotlib\n",
            "  Downloading matplotlib-3.8.3-cp39-cp39-macosx_11_0_arm64.whl (7.5 MB)\n",
            "\u001b[K     |████████████████████████████████| 7.5 MB 4.1 MB/s eta 0:00:01\n",
            "\u001b[?25hRequirement already satisfied: packaging>=20.0 in /Users/anhappy170/Library/Python/3.9/lib/python/site-packages (from matplotlib) (23.2)\n",
            "Collecting contourpy>=1.0.1\n",
            "  Downloading contourpy-1.2.0-cp39-cp39-macosx_11_0_arm64.whl (242 kB)\n",
            "\u001b[K     |████████████████████████████████| 242 kB 6.9 MB/s eta 0:00:01\n",
            "\u001b[?25hRequirement already satisfied: python-dateutil>=2.7 in /Users/anhappy170/Library/Python/3.9/lib/python/site-packages (from matplotlib) (2.8.2)\n",
            "Collecting fonttools>=4.22.0\n",
            "  Downloading fonttools-4.49.0-cp39-cp39-macosx_10_9_universal2.whl (2.8 MB)\n",
            "\u001b[K     |████████████████████████████████| 2.8 MB 6.8 MB/s eta 0:00:01\n",
            "\u001b[?25hCollecting pillow>=8\n",
            "  Downloading pillow-10.2.0-cp39-cp39-macosx_11_0_arm64.whl (3.3 MB)\n",
            "\u001b[K     |████████████████████████████████| 3.3 MB 5.5 MB/s eta 0:00:01\n",
            "\u001b[?25hCollecting pyparsing>=2.3.1\n",
            "  Downloading pyparsing-3.1.1-py3-none-any.whl (103 kB)\n",
            "\u001b[K     |████████████████████████████████| 103 kB 9.1 MB/s eta 0:00:01\n",
            "\u001b[?25hCollecting importlib-resources>=3.2.0\n",
            "  Downloading importlib_resources-6.1.2-py3-none-any.whl (34 kB)\n",
            "Collecting cycler>=0.10\n",
            "  Downloading cycler-0.12.1-py3-none-any.whl (8.3 kB)\n",
            "Collecting kiwisolver>=1.3.1\n",
            "  Downloading kiwisolver-1.4.5-cp39-cp39-macosx_11_0_arm64.whl (66 kB)\n",
            "\u001b[K     |████████████████████████████████| 66 kB 7.2 MB/s eta 0:00:01\n",
            "\u001b[?25hRequirement already satisfied: numpy<2,>=1.21 in /Users/anhappy170/Library/Python/3.9/lib/python/site-packages (from matplotlib) (1.26.4)\n",
            "Requirement already satisfied: zipp>=3.1.0 in /Users/anhappy170/Library/Python/3.9/lib/python/site-packages (from importlib-resources>=3.2.0->matplotlib) (3.17.0)\n",
            "Requirement already satisfied: six>=1.5 in /Library/Developer/CommandLineTools/Library/Frameworks/Python3.framework/Versions/3.9/lib/python3.9/site-packages (from python-dateutil>=2.7->matplotlib) (1.15.0)\n",
            "Installing collected packages: pyparsing, pillow, kiwisolver, importlib-resources, fonttools, cycler, contourpy, matplotlib\n",
            "Successfully installed contourpy-1.2.0 cycler-0.12.1 fonttools-4.49.0 importlib-resources-6.1.2 kiwisolver-1.4.5 matplotlib-3.8.3 pillow-10.2.0 pyparsing-3.1.1\n",
            "\u001b[33mWARNING: You are using pip version 21.2.4; however, version 24.0 is available.\n",
            "You should consider upgrading via the '/Library/Developer/CommandLineTools/usr/bin/python3 -m pip install --upgrade pip' command.\u001b[0m\n",
            "Note: you may need to restart the kernel to use updated packages.\n"
          ]
        }
      ],
      "source": [
        "%pip install matplotlib"
      ]
    },
    {
      "cell_type": "code",
      "execution_count": 6,
      "metadata": {},
      "outputs": [
        {
          "name": "stdout",
          "output_type": "stream",
          "text": [
            "Defaulting to user installation because normal site-packages is not writeable\n",
            "Requirement already satisfied: pandas in /Users/anhappy170/Library/Python/3.9/lib/python/site-packages (2.2.0)\n",
            "Requirement already satisfied: numpy<2,>=1.22.4 in /Users/anhappy170/Library/Python/3.9/lib/python/site-packages (from pandas) (1.26.4)\n",
            "Requirement already satisfied: tzdata>=2022.7 in /Users/anhappy170/Library/Python/3.9/lib/python/site-packages (from pandas) (2024.1)\n",
            "Requirement already satisfied: python-dateutil>=2.8.2 in /Users/anhappy170/Library/Python/3.9/lib/python/site-packages (from pandas) (2.8.2)\n",
            "Requirement already satisfied: pytz>=2020.1 in /Users/anhappy170/Library/Python/3.9/lib/python/site-packages (from pandas) (2024.1)\n",
            "Requirement already satisfied: six>=1.5 in /Library/Developer/CommandLineTools/Library/Frameworks/Python3.framework/Versions/3.9/lib/python3.9/site-packages (from python-dateutil>=2.8.2->pandas) (1.15.0)\n",
            "\u001b[33mWARNING: You are using pip version 21.2.4; however, version 24.0 is available.\n",
            "You should consider upgrading via the '/Library/Developer/CommandLineTools/usr/bin/python3 -m pip install --upgrade pip' command.\u001b[0m\n",
            "Note: you may need to restart the kernel to use updated packages.\n"
          ]
        }
      ],
      "source": [
        "%pip install pandas"
      ]
    },
    {
      "cell_type": "code",
      "execution_count": 7,
      "metadata": {
        "id": "LLvV2K-o7KAp"
      },
      "outputs": [],
      "source": [
        "# Importing the libraries\n",
        "import numpy as np\n",
        "import matplotlib.pyplot as plt\n",
        "import pandas as pd"
      ]
    },
    {
      "cell_type": "code",
      "execution_count": 8,
      "metadata": {
        "id": "gHRHobkK7Sxn"
      },
      "outputs": [],
      "source": [
        "# Importing the dataset\n",
        "dataset = pd.read_csv('Churn_Modelling.csv')\n",
        "X = dataset.iloc[:, 3:13]\n",
        "y = dataset.iloc[:, 13]"
      ]
    },
    {
      "cell_type": "code",
      "execution_count": 9,
      "metadata": {
        "id": "T2yS0VL67Ufn"
      },
      "outputs": [],
      "source": [
        "#Create dummy variables\n",
        "geography=pd.get_dummies(X[\"Geography\"],drop_first=True)\n",
        "gender=pd.get_dummies(X['Gender'],drop_first=True)"
      ]
    },
    {
      "cell_type": "code",
      "execution_count": 10,
      "metadata": {
        "id": "Co2rxaFR7Wgo"
      },
      "outputs": [],
      "source": [
        "## Concatenate the Data Frames\n",
        "\n",
        "X=pd.concat([X,geography,gender],axis=1)\n",
        "\n",
        "## Drop Unnecessary columns\n",
        "X=X.drop(['Geography','Gender'],axis=1)\n",
        "\n",
        "# Splitting the dataset into the Training set and Test set\n",
        "from sklearn.model_selection import train_test_split\n",
        "X_train, X_test, y_train, y_test = train_test_split(X, y, test_size = 0.2, random_state = 0)\n"
      ]
    },
    {
      "cell_type": "code",
      "execution_count": 11,
      "metadata": {
        "id": "GNZrZXy37ZLs"
      },
      "outputs": [],
      "source": [
        "# Feature Scaling\n",
        "from sklearn.preprocessing import StandardScaler\n",
        "sc = StandardScaler()\n",
        "X_train = sc.fit_transform(X_train)\n",
        "X_test = sc.transform(X_test)\n"
      ]
    },
    {
      "cell_type": "code",
      "execution_count": 12,
      "metadata": {
        "id": "uwN3bgie7bvT"
      },
      "outputs": [],
      "source": [
        "# Part 2 - Now let's make the ANN!"
      ]
    },
    {
      "cell_type": "code",
      "execution_count": 13,
      "metadata": {
        "id": "rL_a7vWu7dj1"
      },
      "outputs": [],
      "source": [
        "from tensorflow.keras.models import Sequential\n",
        "from tensorflow.keras.layers import Dense\n",
        "from tensorflow.keras.layers import LeakyReLU,PReLU,ELU\n",
        "from tensorflow.keras.layers import Dropout\n"
      ]
    },
    {
      "cell_type": "code",
      "execution_count": 14,
      "metadata": {
        "id": "VDJwvrbZ7kj4"
      },
      "outputs": [],
      "source": [
        "# Initialising the ANN\n",
        "classifier = Sequential()"
      ]
    },
    {
      "cell_type": "code",
      "execution_count": 15,
      "metadata": {
        "id": "RSZQrU-g7z4N"
      },
      "outputs": [],
      "source": [
        "# Adding the input layer and the first hidden layer\n",
        "classifier.add(Dense(units=11,activation='relu'))"
      ]
    },
    {
      "cell_type": "code",
      "execution_count": 16,
      "metadata": {
        "id": "byszZMvw8RcQ"
      },
      "outputs": [],
      "source": [
        "# Adding the input layer and the first hidden layer\n",
        "classifier.add(Dense(units=6,activation='relu'))"
      ]
    },
    {
      "cell_type": "code",
      "execution_count": 17,
      "metadata": {
        "id": "Mk2slmAX8XUI"
      },
      "outputs": [],
      "source": [
        "# Adding the input layer and the first hidden layer\n",
        "classifier.add(Dense(units=1,activation='relu'))"
      ]
    },
    {
      "cell_type": "code",
      "execution_count": 18,
      "metadata": {
        "id": "F2udThHo8cFt"
      },
      "outputs": [],
      "source": [
        "classifier.compile(optimizer='adam',loss='binary_crossentropy',metrics=['accuracy'])"
      ]
    },
    {
      "cell_type": "code",
      "execution_count": 19,
      "metadata": {
        "colab": {
          "base_uri": "https://localhost:8080/"
        },
        "id": "3qairJAs8fIc",
        "outputId": "0730a4ec-193f-41ae-daff-4ccc7673b142"
      },
      "outputs": [
        {
          "name": "stdout",
          "output_type": "stream",
          "text": [
            "Epoch 1/50\n",
            "536/536 [==============================] - 1s 624us/step - loss: 1.6635 - accuracy: 0.7847 - val_loss: 0.8905 - val_accuracy: 0.7546\n",
            "Epoch 2/50\n",
            "536/536 [==============================] - 0s 487us/step - loss: 0.7181 - accuracy: 0.7643 - val_loss: 0.6539 - val_accuracy: 0.7599\n",
            "Epoch 3/50\n",
            "536/536 [==============================] - 0s 542us/step - loss: 0.6017 - accuracy: 0.7742 - val_loss: 0.5822 - val_accuracy: 0.7721\n",
            "Epoch 4/50\n",
            "536/536 [==============================] - 0s 505us/step - loss: 0.5758 - accuracy: 0.7886 - val_loss: 0.5796 - val_accuracy: 0.7864\n",
            "Epoch 5/50\n",
            "536/536 [==============================] - 0s 496us/step - loss: 0.5367 - accuracy: 0.7796 - val_loss: 0.5200 - val_accuracy: 0.7777\n",
            "Epoch 6/50\n",
            "536/536 [==============================] - 0s 483us/step - loss: 0.5117 - accuracy: 0.7951 - val_loss: 0.5245 - val_accuracy: 0.7899\n",
            "Epoch 7/50\n",
            "536/536 [==============================] - 0s 509us/step - loss: 0.4969 - accuracy: 0.8001 - val_loss: 0.5004 - val_accuracy: 0.7925\n",
            "Epoch 8/50\n",
            "536/536 [==============================] - 0s 503us/step - loss: 0.4851 - accuracy: 0.7998 - val_loss: 0.4870 - val_accuracy: 0.7967\n",
            "Epoch 9/50\n",
            "536/536 [==============================] - 0s 497us/step - loss: 0.4878 - accuracy: 0.7964 - val_loss: 0.4948 - val_accuracy: 0.7974\n",
            "Epoch 10/50\n",
            "536/536 [==============================] - 0s 489us/step - loss: 0.4713 - accuracy: 0.8035 - val_loss: 0.5222 - val_accuracy: 0.7997\n",
            "Epoch 11/50\n",
            "536/536 [==============================] - 0s 489us/step - loss: 0.4664 - accuracy: 0.8052 - val_loss: 0.4851 - val_accuracy: 0.8005\n",
            "Epoch 12/50\n",
            "536/536 [==============================] - 0s 481us/step - loss: 0.4510 - accuracy: 0.8095 - val_loss: 0.4724 - val_accuracy: 0.8050\n",
            "Epoch 13/50\n",
            "536/536 [==============================] - 0s 481us/step - loss: 0.4452 - accuracy: 0.8110 - val_loss: 0.4774 - val_accuracy: 0.8114\n",
            "Epoch 14/50\n",
            "536/536 [==============================] - 0s 485us/step - loss: 0.4473 - accuracy: 0.8121 - val_loss: 0.5177 - val_accuracy: 0.7800\n",
            "Epoch 15/50\n",
            "536/536 [==============================] - 0s 484us/step - loss: 0.4409 - accuracy: 0.8153 - val_loss: 0.4747 - val_accuracy: 0.8179\n",
            "Epoch 16/50\n",
            "536/536 [==============================] - 0s 484us/step - loss: 0.4289 - accuracy: 0.8179 - val_loss: 0.4493 - val_accuracy: 0.8209\n",
            "Epoch 17/50\n",
            "536/536 [==============================] - 0s 514us/step - loss: 0.4280 - accuracy: 0.8194 - val_loss: 0.4689 - val_accuracy: 0.8171\n",
            "Epoch 18/50\n",
            "536/536 [==============================] - 0s 481us/step - loss: 0.4274 - accuracy: 0.8207 - val_loss: 0.4532 - val_accuracy: 0.8205\n",
            "Epoch 19/50\n",
            "536/536 [==============================] - 0s 483us/step - loss: 0.4167 - accuracy: 0.8252 - val_loss: 0.4884 - val_accuracy: 0.8213\n",
            "Epoch 20/50\n",
            "536/536 [==============================] - 0s 480us/step - loss: 0.4136 - accuracy: 0.8276 - val_loss: 0.4639 - val_accuracy: 0.8201\n",
            "Epoch 21/50\n",
            "536/536 [==============================] - 0s 483us/step - loss: 0.4057 - accuracy: 0.8311 - val_loss: 0.4794 - val_accuracy: 0.8266\n",
            "Epoch 22/50\n",
            "536/536 [==============================] - 0s 716us/step - loss: 0.4061 - accuracy: 0.8328 - val_loss: 0.4628 - val_accuracy: 0.8285\n",
            "Epoch 23/50\n",
            "536/536 [==============================] - 0s 482us/step - loss: 0.3958 - accuracy: 0.8395 - val_loss: 0.4906 - val_accuracy: 0.8300\n",
            "Epoch 24/50\n",
            "536/536 [==============================] - 0s 481us/step - loss: 0.3973 - accuracy: 0.8405 - val_loss: 0.4853 - val_accuracy: 0.8349\n",
            "Epoch 25/50\n",
            "536/536 [==============================] - 0s 481us/step - loss: 0.3873 - accuracy: 0.8444 - val_loss: 0.4604 - val_accuracy: 0.8383\n",
            "Epoch 26/50\n",
            "536/536 [==============================] - 0s 483us/step - loss: 0.3896 - accuracy: 0.8457 - val_loss: 0.4577 - val_accuracy: 0.8364\n",
            "Epoch 27/50\n",
            "536/536 [==============================] - 0s 482us/step - loss: 0.3812 - accuracy: 0.8468 - val_loss: 0.4796 - val_accuracy: 0.8379\n",
            "Epoch 28/50\n",
            "536/536 [==============================] - 0s 778us/step - loss: 0.3700 - accuracy: 0.8496 - val_loss: 0.4660 - val_accuracy: 0.8379\n",
            "Epoch 29/50\n",
            "536/536 [==============================] - 0s 559us/step - loss: 0.3729 - accuracy: 0.8464 - val_loss: 0.4642 - val_accuracy: 0.8383\n",
            "Epoch 30/50\n",
            "536/536 [==============================] - 0s 484us/step - loss: 0.3780 - accuracy: 0.8472 - val_loss: 0.4372 - val_accuracy: 0.8421\n",
            "Epoch 31/50\n",
            "536/536 [==============================] - 0s 484us/step - loss: 0.3736 - accuracy: 0.8481 - val_loss: 0.4953 - val_accuracy: 0.8413\n",
            "Epoch 32/50\n",
            "536/536 [==============================] - 0s 483us/step - loss: 0.3774 - accuracy: 0.8505 - val_loss: 0.5345 - val_accuracy: 0.8402\n",
            "Epoch 33/50\n",
            "536/536 [==============================] - 0s 483us/step - loss: 0.3727 - accuracy: 0.8520 - val_loss: 0.5214 - val_accuracy: 0.8402\n",
            "Epoch 34/50\n",
            "536/536 [==============================] - 0s 485us/step - loss: 0.3721 - accuracy: 0.8509 - val_loss: 0.4937 - val_accuracy: 0.8413\n",
            "Epoch 35/50\n",
            "536/536 [==============================] - 0s 484us/step - loss: 0.3684 - accuracy: 0.8537 - val_loss: 0.4908 - val_accuracy: 0.8417\n",
            "Epoch 36/50\n",
            "536/536 [==============================] - 0s 493us/step - loss: 0.3654 - accuracy: 0.8550 - val_loss: 0.5661 - val_accuracy: 0.8379\n",
            "Epoch 37/50\n",
            "536/536 [==============================] - 0s 574us/step - loss: 0.3680 - accuracy: 0.8539 - val_loss: 0.5135 - val_accuracy: 0.8417\n",
            "Epoch 38/50\n",
            "536/536 [==============================] - 0s 558us/step - loss: 0.3705 - accuracy: 0.8517 - val_loss: 0.4972 - val_accuracy: 0.8429\n",
            "Epoch 39/50\n",
            "536/536 [==============================] - 0s 499us/step - loss: 0.3633 - accuracy: 0.8526 - val_loss: 0.4692 - val_accuracy: 0.8421\n",
            "Epoch 40/50\n",
            "536/536 [==============================] - 0s 515us/step - loss: 0.3693 - accuracy: 0.8559 - val_loss: 0.4668 - val_accuracy: 0.8425\n",
            "Epoch 41/50\n",
            "536/536 [==============================] - 0s 486us/step - loss: 0.3734 - accuracy: 0.8552 - val_loss: 0.4700 - val_accuracy: 0.8440\n",
            "Epoch 42/50\n",
            "536/536 [==============================] - 0s 496us/step - loss: 0.3660 - accuracy: 0.8535 - val_loss: 0.4762 - val_accuracy: 0.8413\n",
            "Epoch 43/50\n",
            "536/536 [==============================] - 0s 509us/step - loss: 0.3694 - accuracy: 0.8550 - val_loss: 0.4721 - val_accuracy: 0.8413\n",
            "Epoch 44/50\n",
            "536/536 [==============================] - 0s 502us/step - loss: 0.3655 - accuracy: 0.8558 - val_loss: 0.4699 - val_accuracy: 0.8436\n",
            "Epoch 45/50\n",
            "536/536 [==============================] - 0s 485us/step - loss: 0.3632 - accuracy: 0.8548 - val_loss: 0.6592 - val_accuracy: 0.8304\n",
            "Epoch 46/50\n",
            "536/536 [==============================] - 0s 484us/step - loss: 0.4183 - accuracy: 0.8442 - val_loss: 0.4788 - val_accuracy: 0.8410\n",
            "Epoch 47/50\n",
            "536/536 [==============================] - 0s 487us/step - loss: 0.3672 - accuracy: 0.8500 - val_loss: 0.4653 - val_accuracy: 0.8432\n",
            "Epoch 48/50\n",
            "536/536 [==============================] - 0s 494us/step - loss: 0.3607 - accuracy: 0.8518 - val_loss: 0.4757 - val_accuracy: 0.8421\n",
            "Epoch 49/50\n",
            "536/536 [==============================] - 0s 491us/step - loss: 0.3535 - accuracy: 0.8535 - val_loss: 0.4847 - val_accuracy: 0.8429\n",
            "Epoch 50/50\n",
            "536/536 [==============================] - 0s 508us/step - loss: 0.3556 - accuracy: 0.8546 - val_loss: 0.4715 - val_accuracy: 0.8440\n"
          ]
        }
      ],
      "source": [
        "model_history=classifier.fit(X_train,y_train,validation_split=0.33,batch_size=10,epochs=50)"
      ]
    },
    {
      "cell_type": "code",
      "execution_count": 20,
      "metadata": {
        "colab": {
          "base_uri": "https://localhost:8080/"
        },
        "id": "Q9t_M4wICTTz",
        "outputId": "18fa935a-8009-407f-de61-7f6a83669624"
      },
      "outputs": [
        {
          "name": "stdout",
          "output_type": "stream",
          "text": [
            "dict_keys(['loss', 'accuracy', 'val_loss', 'val_accuracy'])\n"
          ]
        }
      ],
      "source": [
        "# list all data in history\n",
        "\n",
        "print(model_history.history.keys())"
      ]
    },
    {
      "cell_type": "code",
      "execution_count": 21,
      "metadata": {
        "colab": {
          "base_uri": "https://localhost:8080/",
          "height": 295
        },
        "id": "MMOyiwzgBlLY",
        "outputId": "aeb29600-3c1f-41aa-9e29-05acf6011ed8"
      },
      "outputs": [
        {
          "data": {
            "image/png": "[encoded data removed]",
            "text/plain": [
              "<Figure size 640x480 with 1 Axes>"
            ]
          },
          "metadata": {},
          "output_type": "display_data"
        }
      ],
      "source": [
        "\n",
        "# summarize history for accuracy\n",
        "plt.plot(model_history.history['accuracy'])\n",
        "plt.plot(model_history.history['val_accuracy'])\n",
        "plt.title('model accuracy')\n",
        "plt.ylabel('accuracy')\n",
        "plt.xlabel('epoch')\n",
        "plt.legend(['train', 'test'], loc='upper left')\n",
        "plt.show()"
      ]
    },
    {
      "cell_type": "code",
      "execution_count": 22,
      "metadata": {
        "colab": {
          "base_uri": "https://localhost:8080/",
          "height": 295
        },
        "id": "QH141RsQCEr0",
        "outputId": "4566dca0-b002-4f59-b6e8-f8654b414283"
      },
      "outputs": [
        {
          "data": {
            "image/png": "[encoded data removed]",
            "text/plain": [
              "<Figure size 640x480 with 1 Axes>"
            ]
          },
          "metadata": {},
          "output_type": "display_data"
        }
      ],
      "source": [
        "# summarize history for loss\n",
        "plt.plot(model_history.history['loss'])\n",
        "plt.plot(model_history.history['val_loss'])\n",
        "plt.title('model loss')\n",
        "plt.ylabel('loss')\n",
        "plt.xlabel('epoch')\n",
        "plt.legend(['train', 'test'], loc='upper left')\n",
        "plt.show()"
      ]
    },
    {
      "cell_type": "code",
      "execution_count": 23,
      "metadata": {
        "id": "OYqCIIkDCd8S"
      },
      "outputs": [
        {
          "name": "stdout",
          "output_type": "stream",
          "text": [
            "63/63 [==============================] - 0s 312us/step\n"
          ]
        }
      ],
      "source": [
        "# Part 3 - Making the predictions and evaluating the model\n",
        "\n",
        "# Predicting the Test set results\n",
        "y_pred = classifier.predict(X_test)\n",
        "y_pred = (y_pred > 0.5)"
      ]
    },
    {
      "cell_type": "code",
      "execution_count": 24,
      "metadata": {
        "colab": {
          "base_uri": "https://localhost:8080/"
        },
        "id": "cm3EeOGTCi3-",
        "outputId": "f3cfe210-0811-4c4e-ce72-4100b32bb79f"
      },
      "outputs": [
        {
          "data": {
            "text/plain": [
              "array([[1507,   88],\n",
              "       [ 216,  189]])"
            ]
          },
          "execution_count": 24,
          "metadata": {},
          "output_type": "execute_result"
        }
      ],
      "source": [
        "# Making the Confusion Matrix\n",
        "from sklearn.metrics import confusion_matrix\n",
        "cm = confusion_matrix(y_test, y_pred)\n",
        "cm"
      ]
    },
    {
      "cell_type": "code",
      "execution_count": 25,
      "metadata": {
        "id": "FgfRKzzOClmP"
      },
      "outputs": [],
      "source": [
        "# Calculate the Accuracy\n",
        "from sklearn.metrics import accuracy_score\n",
        "score=accuracy_score(y_pred,y_test)"
      ]
    },
    {
      "cell_type": "code",
      "execution_count": 26,
      "metadata": {
        "colab": {
          "base_uri": "https://localhost:8080/"
        },
        "id": "a_C5EETrCpSj",
        "outputId": "6e495c58-0149-453b-b0d6-592606fe5c80"
      },
      "outputs": [
        {
          "data": {
            "text/plain": [
              "0.848"
            ]
          },
          "execution_count": 26,
          "metadata": {},
          "output_type": "execute_result"
        }
      ],
      "source": [
        "score"
      ]
    },
    {
      "cell_type": "code",
      "execution_count": null,
      "metadata": {
        "id": "UTvHAjYWCqWx"
      },
      "outputs": [],
      "source": []
    }
  ],
  "metadata": {
    "colab": {
      "name": "Untitled63.ipynb",
      "provenance": []
    },
    "kernelspec": {
      "display_name": "Python 3",
      "name": "python3"
    },
    "language_info": {
      "codemirror_mode": {
        "name": "ipython",
        "version": 3
      },
      "file_extension": ".py",
      "mimetype": "text/x-python",
      "name": "python",
      "nbconvert_exporter": "python",
      "pygments_lexer": "ipython3",
      "version": "3.9.6"
    }
  },
  "nbformat": 4,
  "nbformat_minor": 0
}
